{
  "nbformat": 4,
  "nbformat_minor": 0,
  "metadata": {
    "colab": {
      "name": "ChatbotV1.2Framework.ipynb",
      "version": "0.3.2",
      "provenance": [],
      "collapsed_sections": []
    },
    "kernelspec": {
      "name": "python2",
      "display_name": "Python 2"
    }
  },
  "cells": [
    {
      "metadata": {
        "id": "ZAyrNs-eVJbK",
        "colab_type": "code",
        "colab": {
          "base_uri": "https://localhost:8080/",
          "height": 34
        },
        "outputId": "18ed3f17-f093-413f-aef8-75242d0fa056"
      },
      "cell_type": "code",
      "source": [
        "!ls"
      ],
      "execution_count": 1,
      "outputs": [
        {
          "output_type": "stream",
          "text": [
            "datalab\r\n"
          ],
          "name": "stdout"
        }
      ]
    },
    {
      "metadata": {
        "id": "XWDARGWq5iMT",
        "colab_type": "code",
        "colab": {
          "base_uri": "https://localhost:8080/",
          "height": 34
        },
        "outputId": "5cd6aab4-9165-42f2-d6a9-1635199335c2"
      },
      "cell_type": "code",
      "source": [
        "%%writefile getfile.py\n",
        "import requests\n",
        "\n",
        "def download_file_from_google_drive(id, destination):\n",
        "    def get_confirm_token(response):\n",
        "        for key, value in response.cookies.items():\n",
        "            if key.startswith('download_warning'):\n",
        "                return value\n",
        "\n",
        "        return None\n",
        "\n",
        "    def save_response_content(response, destination):\n",
        "        CHUNK_SIZE = 32768\n",
        "\n",
        "        with open(destination, \"wb\") as f:\n",
        "            for chunk in response.iter_content(CHUNK_SIZE):\n",
        "                if chunk: # filter out keep-alive new chunks\n",
        "                    f.write(chunk)\n",
        "\n",
        "    URL = \"https://docs.google.com/uc?export=download\"\n",
        "\n",
        "    session = requests.Session()\n",
        "\n",
        "    response = session.get(URL, params = { 'id' : id }, stream = True)\n",
        "    token = get_confirm_token(response)\n",
        "\n",
        "    if token:\n",
        "        params = { 'id' : id, 'confirm' : token }\n",
        "        response = session.get(URL, params = params, stream = True)\n",
        "\n",
        "    save_response_content(response, destination)    \n",
        "\n",
        "\n",
        "if __name__ == \"__main__\":\n",
        "    import sys\n",
        "    if len(sys.argv) is not 3:\n",
        "        print \"Usage: python google_drive.py drive_file_id destination_file_path\"\n",
        "    else:\n",
        "        # TAKE ID FROM SHAREABLE LINK\n",
        "        file_id = sys.argv[1]\n",
        "        # DESTINATION FILE ON YOUR DISK\n",
        "        destination = sys.argv[2]\n",
        "        download_file_from_google_drive(file_id, destination)"
      ],
      "execution_count": 4,
      "outputs": [
        {
          "output_type": "stream",
          "text": [
            "Writing getfile.py\n"
          ],
          "name": "stdout"
        }
      ]
    },
    {
      "metadata": {
        "id": "w-2x3Ymu5i25",
        "colab_type": "code",
        "colab": {}
      },
      "cell_type": "code",
      "source": [
        "!python getfile.py 1oPImizaSFyyTxqofGdDrX0jUJxNkXYWV /content/Test.tar.gz"
      ],
      "execution_count": 0,
      "outputs": []
    },
    {
      "metadata": {
        "id": "SzfL5L2p6PYJ",
        "colab_type": "code",
        "colab": {
          "base_uri": "https://localhost:8080/",
          "height": 119
        },
        "outputId": "3e4e35f2-450d-48d2-d08a-ac982ab72a73"
      },
      "cell_type": "code",
      "source": [
        "!ls -l"
      ],
      "execution_count": 27,
      "outputs": [
        {
          "output_type": "stream",
          "text": [
            "total 1334952\r\n",
            "-rw-r--r-- 1 root root 455984080 Jun 25 15:14 398.36-desktop-win8-win7-64bit-international-whql.exe\r\n",
            "drwxr-xr-x 1 root root      4096 Jul 16 18:50 datalab\r\n",
            "drwxr-xr-x 2 root root      4096 Jul 16 18:56 nvidia\r\n",
            "-rw-r--r-- 1 root root 455491036 Jul 16 19:02 nvidiaL2.zip\r\n",
            "-rw-r--r-- 1 root root 455490866 Jul 16 18:58 nvidia.zip\r\n"
          ],
          "name": "stdout"
        }
      ]
    },
    {
      "metadata": {
        "id": "AeYv2Elugfw3",
        "colab_type": "code",
        "colab": {
          "base_uri": "https://localhost:8080/",
          "height": 34
        },
        "outputId": "c4bed4cb-6b4e-4ccc-cf21-93faa202eb14"
      },
      "cell_type": "code",
      "source": [
        "!zip -r nvidiaL2.zip nvidia.zip "
      ],
      "execution_count": 26,
      "outputs": [
        {
          "output_type": "stream",
          "text": [
            "  adding: nvidia.zip (stored 0%)\n"
          ],
          "name": "stdout"
        }
      ]
    },
    {
      "metadata": {
        "id": "ySopcoUh6R5Y",
        "colab_type": "code",
        "colab": {
          "base_uri": "https://localhost:8080/",
          "height": 340
        },
        "outputId": "0fde75e2-4895-4487-ee66-0424977e43a4"
      },
      "cell_type": "code",
      "source": [
        "from google.colab import files\n",
        "\n",
        "files.download('nvidiaL2.zip')"
      ],
      "execution_count": 29,
      "outputs": [
        {
          "output_type": "stream",
          "text": [
            "----------------------------------------\n",
            "Exception happened during processing of request from ('::ffff:127.0.0.1', 33430, 0, 0)\n",
            "----------------------------------------\n"
          ],
          "name": "stdout"
        },
        {
          "output_type": "stream",
          "text": [
            "Traceback (most recent call last):\n",
            "  File \"/usr/lib/python2.7/SocketServer.py\", line 290, in _handle_request_noblock\n",
            "    self.process_request(request, client_address)\n",
            "  File \"/usr/lib/python2.7/SocketServer.py\", line 318, in process_request\n",
            "    self.finish_request(request, client_address)\n",
            "  File \"/usr/lib/python2.7/SocketServer.py\", line 331, in finish_request\n",
            "    self.RequestHandlerClass(request, client_address, self)\n",
            "  File \"/usr/lib/python2.7/SocketServer.py\", line 654, in __init__\n",
            "    self.finish()\n",
            "  File \"/usr/lib/python2.7/SocketServer.py\", line 713, in finish\n",
            "    self.wfile.close()\n",
            "  File \"/usr/lib/python2.7/socket.py\", line 283, in close\n",
            "    self.flush()\n",
            "  File \"/usr/lib/python2.7/socket.py\", line 307, in flush\n",
            "    self._sock.sendall(view[write_offset:write_offset+buffer_size])\n",
            "error: [Errno 32] Broken pipe\n"
          ],
          "name": "stderr"
        }
      ]
    },
    {
      "metadata": {
        "id": "nLnaZc8rVs3x",
        "colab_type": "code",
        "colab": {
          "base_uri": "https://localhost:8080/",
          "height": 204
        },
        "outputId": "147e4a7e-319f-45b3-ac33-643621cf2eb5"
      },
      "cell_type": "code",
      "source": [
        "!wget https://us.download.nvidia.com/Windows/398.36/398.36-desktop-win8-win7-64bit-international-whql.exe "
      ],
      "execution_count": 6,
      "outputs": [
        {
          "output_type": "stream",
          "text": [
            "--2018-07-16 18:44:06--  https://us.download.nvidia.com/Windows/398.36/398.36-desktop-win8-win7-64bit-international-whql.exe\r\n",
            "Resolving us.download.nvidia.com (us.download.nvidia.com)... 192.229.211.70, 2606:2800:21f:3aa:dcf:37b:1ed6:1fb\r\n",
            "Connecting to us.download.nvidia.com (us.download.nvidia.com)|192.229.211.70|:443... connected.\r\n",
            "HTTP request sent, awaiting response... 200 OK\r\n",
            "Length: 455984080 (435M) [application/octet-stream]\r\n",
            "Saving to: ‘398.36-desktop-win8-win7-64bit-international-whql.exe’\r\n",
            "\n",
            "398.36-desktop-win8 100%[===================>] 434.86M   152MB/s    in 2.9s    \n",
            "\n",
            "2018-07-16 18:44:09 (152 MB/s) - ‘398.36-desktop-win8-win7-64bit-international-whql.exe’ saved [455984080/455984080]\n",
            "\n"
          ],
          "name": "stdout"
        }
      ]
    },
    {
      "metadata": {
        "id": "GGJn2wzlcoWq",
        "colab_type": "code",
        "colab": {
          "base_uri": "https://localhost:8080/",
          "height": 102
        },
        "outputId": "319d2681-98f0-4f6c-ee0a-b0e1d4998342"
      },
      "cell_type": "code",
      "source": [
        "!ls -l"
      ],
      "execution_count": 25,
      "outputs": [
        {
          "output_type": "stream",
          "text": [
            "total 890136\r\n",
            "-rw-r--r-- 1 root root 455984080 Jun 25 15:14 398.36-desktop-win8-win7-64bit-international-whql.exe\r\n",
            "drwxr-xr-x 1 root root      4096 Jul 16 18:50 datalab\r\n",
            "drwxr-xr-x 2 root root      4096 Jul 16 18:56 nvidia\r\n",
            "-rw-r--r-- 1 root root 455490866 Jul 16 18:58 nvidia.zip\r\n"
          ],
          "name": "stdout"
        }
      ]
    },
    {
      "metadata": {
        "id": "GTiFyZc1bUQi",
        "colab_type": "code",
        "colab": {
          "base_uri": "https://localhost:8080/",
          "height": 51
        },
        "outputId": "c517673c-0698-42e3-af91-97c1abe613b8"
      },
      "cell_type": "code",
      "source": [
        "# Install the PyDrive wrapper & import libraries.\n",
        "# This only needs to be done once in a notebook.\n",
        "!pip install -U -q PyDrive\n",
        "from pydrive.auth import GoogleAuth\n",
        "from pydrive.drive import GoogleDrive\n",
        "from google.colab import auth\n",
        "from oauth2client.client import GoogleCredentials\n",
        "\n",
        "# Authenticate and create the PyDrive client.\n",
        "# This only needs to be done once in a notebook.\n",
        "auth.authenticate_user()\n",
        "gauth = GoogleAuth()\n",
        "gauth.credentials = GoogleCredentials.get_application_default()\n",
        "drive = GoogleDrive(gauth)\n",
        "\n",
        "# Create & upload a text file.\n",
        "uploaded = drive.CreateFile()\n",
        "uploaded.SetContentFile('nvidiaL2.zip')\n",
        "uploaded.Upload()\n",
        "print('Uploaded file with ID {}'.format(uploaded.get('id')))\n",
        "print('title: %s, mimeType: %s' % (uploaded['title'], uploaded['mimeType']))"
      ],
      "execution_count": 28,
      "outputs": [
        {
          "output_type": "stream",
          "text": [
            "Uploaded file with ID 1DeteYfuye9pMAXm83imVzaQ3Uk8rRTOp\n",
            "title: nvidiaL2.zip, mimeType: application/zip\n"
          ],
          "name": "stdout"
        }
      ]
    }
  ]
}